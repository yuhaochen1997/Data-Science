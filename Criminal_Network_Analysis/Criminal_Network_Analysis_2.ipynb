{
 "cells": [
  {
   "cell_type": "code",
   "execution_count": 70,
   "metadata": {},
   "outputs": [],
   "source": [
    "import pandas as pd\n",
    "import networkx as nx\n",
    "import matplotlib.pyplot as plt\n",
    "%matplotlib inline\n",
    "import numpy as np\n",
    "from itertools import combinations\n",
    "import seaborn as sns;sns.set()"
   ]
  },
  {
   "cell_type": "markdown",
   "metadata": {},
   "source": [
    "# Co-offending Network"
   ]
  },
  {
   "cell_type": "code",
   "execution_count": 30,
   "metadata": {},
   "outputs": [],
   "source": [
    "cooffending = pd.read_csv(\"Cooffending.csv\")"
   ]
  },
  {
   "cell_type": "markdown",
   "metadata": {},
   "source": [
    "### How many data points?"
   ]
  },
  {
   "cell_type": "code",
   "execution_count": 31,
   "metadata": {},
   "outputs": [
    {
     "data": {
      "text/plain": [
       "1280459"
      ]
     },
     "execution_count": 31,
     "metadata": {},
     "output_type": "execute_result"
    }
   ],
   "source": [
    "len(cooffending)"
   ]
  },
  {
   "cell_type": "markdown",
   "metadata": {},
   "source": [
    "### How many unique offenders?"
   ]
  },
  {
   "cell_type": "code",
   "execution_count": 32,
   "metadata": {},
   "outputs": [
    {
     "data": {
      "text/plain": [
       "539593"
      ]
     },
     "execution_count": 32,
     "metadata": {},
     "output_type": "execute_result"
    }
   ],
   "source": [
    "len(cooffending['NoUnique'].unique())"
   ]
  },
  {
   "cell_type": "markdown",
   "metadata": {},
   "source": [
    "### How many different crime events?"
   ]
  },
  {
   "cell_type": "code",
   "execution_count": 33,
   "metadata": {},
   "outputs": [
    {
     "data": {
      "text/plain": [
       "1164836"
      ]
     },
     "execution_count": 33,
     "metadata": {},
     "output_type": "execute_result"
    }
   ],
   "source": [
    "len(cooffending['SeqE'].unique())"
   ]
  },
  {
   "cell_type": "markdown",
   "metadata": {},
   "source": [
    "### How many different crime events each year from 2003 to 2010?"
   ]
  },
  {
   "cell_type": "code",
   "execution_count": 34,
   "metadata": {},
   "outputs": [
    {
     "data": {
      "image/png": "[encoded data removed]",
      "text/plain": [
       "<Figure size 432x288 with 1 Axes>"
      ]
     },
     "metadata": {
      "needs_background": "light"
     },
     "output_type": "display_data"
    }
   ],
   "source": [
    "events_each_year = [ len( cooffending[cooffending['annee']==i]['SeqE'].unique() ) for i in range(2003,2011) ]\n",
    "_ = plt.plot(range(2003,2011),events_each_year)\n",
    "_ = plt.title('Each Year Different Crimes')\n",
    "plt.show()"
   ]
  },
  {
   "cell_type": "markdown",
   "metadata": {},
   "source": [
    "### Which crime involved the greatest number of offenders?"
   ]
  },
  {
   "cell_type": "code",
   "execution_count": 35,
   "metadata": {},
   "outputs": [],
   "source": [
    "# max(cooffending['SeqE'], key = lambda x:len( cooffending[cooffending['SeqE']==x]['NoUnique'] ) )"
   ]
  },
  {
   "cell_type": "code",
   "execution_count": 36,
   "metadata": {},
   "outputs": [],
   "source": [
    "cooffending['events'] = cooffending['SeqE'].apply(str)"
   ]
  },
  {
   "cell_type": "code",
   "execution_count": 37,
   "metadata": {},
   "outputs": [
    {
     "data": {
      "text/html": [
       "<div>\n",
       "<style scoped>\n",
       "    .dataframe tbody tr th:only-of-type {\n",
       "        vertical-align: middle;\n",
       "    }\n",
       "\n",
       "    .dataframe tbody tr th {\n",
       "        vertical-align: top;\n",
       "    }\n",
       "\n",
       "    .dataframe thead th {\n",
       "        text-align: right;\n",
       "    }\n",
       "</style>\n",
       "<table border=\"1\" class=\"dataframe\">\n",
       "  <thead>\n",
       "    <tr style=\"text-align: right;\">\n",
       "      <th></th>\n",
       "      <th>NoUnique</th>\n",
       "      <th>Naissance</th>\n",
       "      <th>SEXE</th>\n",
       "      <th>SeqE</th>\n",
       "      <th>dateInf</th>\n",
       "      <th>NCD1</th>\n",
       "      <th>NCD2</th>\n",
       "      <th>NCD3</th>\n",
       "      <th>NCD4</th>\n",
       "      <th>MUN</th>\n",
       "      <th>ED1</th>\n",
       "      <th>Jeunes</th>\n",
       "      <th>Adultes</th>\n",
       "      <th>Date</th>\n",
       "      <th>annee</th>\n",
       "      <th>events</th>\n",
       "    </tr>\n",
       "  </thead>\n",
       "  <tbody>\n",
       "    <tr>\n",
       "      <th>0</th>\n",
       "      <td>1</td>\n",
       "      <td>1007</td>\n",
       "      <td>F</td>\n",
       "      <td>1085034</td>\n",
       "      <td>20051217</td>\n",
       "      <td>3530</td>\n",
       "      <td></td>\n",
       "      <td></td>\n",
       "      <td></td>\n",
       "      <td>58227</td>\n",
       "      <td>2</td>\n",
       "      <td>0</td>\n",
       "      <td>1</td>\n",
       "      <td>12/17/2005</td>\n",
       "      <td>2005</td>\n",
       "      <td>1085034</td>\n",
       "    </tr>\n",
       "    <tr>\n",
       "      <th>1</th>\n",
       "      <td>2</td>\n",
       "      <td>1828</td>\n",
       "      <td>F</td>\n",
       "      <td>1431379</td>\n",
       "      <td>20080423</td>\n",
       "      <td>1430</td>\n",
       "      <td></td>\n",
       "      <td></td>\n",
       "      <td></td>\n",
       "      <td>94068</td>\n",
       "      <td>5</td>\n",
       "      <td>0</td>\n",
       "      <td>1</td>\n",
       "      <td>04/23/2008</td>\n",
       "      <td>2008</td>\n",
       "      <td>1431379</td>\n",
       "    </tr>\n",
       "    <tr>\n",
       "      <th>2</th>\n",
       "      <td>4</td>\n",
       "      <td>1889</td>\n",
       "      <td>M</td>\n",
       "      <td>167174</td>\n",
       "      <td>20080306</td>\n",
       "      <td>1430</td>\n",
       "      <td>21702</td>\n",
       "      <td></td>\n",
       "      <td></td>\n",
       "      <td>49058</td>\n",
       "      <td>2</td>\n",
       "      <td>0</td>\n",
       "      <td>1</td>\n",
       "      <td>03/06/2008</td>\n",
       "      <td>2008</td>\n",
       "      <td>167174</td>\n",
       "    </tr>\n",
       "    <tr>\n",
       "      <th>3</th>\n",
       "      <td>5</td>\n",
       "      <td>1892</td>\n",
       "      <td>M</td>\n",
       "      <td>1179096</td>\n",
       "      <td>20080821</td>\n",
       "      <td>1420</td>\n",
       "      <td></td>\n",
       "      <td></td>\n",
       "      <td></td>\n",
       "      <td>65005</td>\n",
       "      <td>71</td>\n",
       "      <td>0</td>\n",
       "      <td>1</td>\n",
       "      <td>08/21/2008</td>\n",
       "      <td>2008</td>\n",
       "      <td>1179096</td>\n",
       "    </tr>\n",
       "    <tr>\n",
       "      <th>4</th>\n",
       "      <td>17</td>\n",
       "      <td>1897</td>\n",
       "      <td>M</td>\n",
       "      <td>1270690</td>\n",
       "      <td>20030430</td>\n",
       "      <td>1625</td>\n",
       "      <td></td>\n",
       "      <td></td>\n",
       "      <td></td>\n",
       "      <td>23027</td>\n",
       "      <td></td>\n",
       "      <td>0</td>\n",
       "      <td>3</td>\n",
       "      <td>04/30/2003</td>\n",
       "      <td>2003</td>\n",
       "      <td>1270690</td>\n",
       "    </tr>\n",
       "  </tbody>\n",
       "</table>\n",
       "</div>"
      ],
      "text/plain": [
       "   NoUnique  Naissance SEXE     SeqE   dateInf  NCD1   NCD2 NCD3 NCD4    MUN  \\\n",
       "0         1       1007    F  1085034  20051217  3530                   58227   \n",
       "1         2       1828    F  1431379  20080423  1430                   94068   \n",
       "2         4       1889    M   167174  20080306  1430  21702            49058   \n",
       "3         5       1892    M  1179096  20080821  1420                   65005   \n",
       "4        17       1897    M  1270690  20030430  1625                   23027   \n",
       "\n",
       "  ED1  Jeunes  Adultes        Date  annee   events  \n",
       "0   2       0        1  12/17/2005   2005  1085034  \n",
       "1   5       0        1  04/23/2008   2008  1431379  \n",
       "2   2       0        1  03/06/2008   2008   167174  \n",
       "3  71       0        1  08/21/2008   2008  1179096  \n",
       "4           0        3  04/30/2003   2003  1270690  "
      ]
     },
     "execution_count": 37,
     "metadata": {},
     "output_type": "execute_result"
    }
   ],
   "source": [
    "cooffending.head()"
   ]
  },
  {
   "cell_type": "markdown",
   "metadata": {},
   "source": [
    "# Part 1 : co-offender network"
   ]
  },
  {
   "cell_type": "code",
   "execution_count": 38,
   "metadata": {},
   "outputs": [
    {
     "name": "stdout",
     "output_type": "stream",
     "text": [
      "Name: \n",
      "Type: Graph\n",
      "Number of nodes: 1704429\n",
      "Number of edges: 1279987\n",
      "Average degree:   1.5020\n"
     ]
    }
   ],
   "source": [
    "G_ori = nx.Graph()\n",
    "G_ori.add_nodes_from(cooffending['NoUnique'].unique(), bipartite = 'criminal')\n",
    "G_ori.add_nodes_from(cooffending['events'].unique(), bipartite = 'events')\n",
    "G_ori.add_edges_from(zip(cooffending['NoUnique'],cooffending['events']))\n",
    "print nx.info(G_ori)"
   ]
  },
  {
   "cell_type": "code",
   "execution_count": 39,
   "metadata": {},
   "outputs": [],
   "source": [
    "person_nodes = cooffending['NoUnique'].unique()\n",
    "G = nx.bipartite.projected_graph(G_ori, nodes = person_nodes)"
   ]
  },
  {
   "cell_type": "code",
   "execution_count": 40,
   "metadata": {},
   "outputs": [],
   "source": [
    "# time = 0\n",
    "# crimes = cooffending['SeqE'].unique()\n",
    "# for crime in crimes:\n",
    "#     offenders = cooffending[cooffending['SeqE']==crime]['NoUnique']\n",
    "#     G.add_edges_from( combinations(offenders,2) )\n",
    "#     time +=1\n",
    "#     if time%10000==0:\n",
    "#         print time\n"
   ]
  },
  {
   "cell_type": "markdown",
   "metadata": {},
   "source": [
    "### How many nodes and edges? How many isolated nodes?"
   ]
  },
  {
   "cell_type": "code",
   "execution_count": 41,
   "metadata": {},
   "outputs": [
    {
     "name": "stdout",
     "output_type": "stream",
     "text": [
      "Name: \n",
      "Type: Graph\n",
      "Number of nodes: 539593\n",
      "Number of edges: 178413\n",
      "Average degree:   0.6613\n"
     ]
    }
   ],
   "source": [
    "print nx.info(G)"
   ]
  },
  {
   "cell_type": "code",
   "execution_count": 42,
   "metadata": {},
   "outputs": [
    {
     "data": {
      "text/plain": [
       "418434"
      ]
     },
     "execution_count": 42,
     "metadata": {},
     "output_type": "execute_result"
    }
   ],
   "source": [
    "isolated_nodes = list(nx.isolates(G))\n",
    "len(isolated_nodes)"
   ]
  },
  {
   "cell_type": "code",
   "execution_count": 43,
   "metadata": {},
   "outputs": [
    {
     "name": "stdout",
     "output_type": "stream",
     "text": [
      "Name: \n",
      "Type: Graph\n",
      "Number of nodes: 121159\n",
      "Number of edges: 178413\n",
      "Average degree:   2.9451\n"
     ]
    }
   ],
   "source": [
    "G.remove_nodes_from(isolated_nodes)\n",
    "print nx.info(G)"
   ]
  },
  {
   "cell_type": "markdown",
   "metadata": {},
   "source": [
    "### Plot the degree distribution"
   ]
  },
  {
   "cell_type": "code",
   "execution_count": 44,
   "metadata": {},
   "outputs": [
    {
     "data": {
      "image/png": "[encoded data removed]",
      "text/plain": [
       "<Figure size 432x288 with 1 Axes>"
      ]
     },
     "metadata": {
      "needs_background": "light"
     },
     "output_type": "display_data"
    },
    {
     "data": {
      "image/png": "[encoded data removed]",
      "text/plain": [
       "<Figure size 432x288 with 1 Axes>"
      ]
     },
     "metadata": {
      "needs_background": "light"
     },
     "output_type": "display_data"
    }
   ],
   "source": [
    "plt.figure(1)\n",
    "_ = plt.bar( range( len(nx.degree_histogram(G)) ) ,nx.degree_histogram(G) )\n",
    "_ = plt.xlabel('degree', size = 16)\n",
    "_ = plt.ylabel('node counts', size = 16)\n",
    "_ = plt.title('Entire Degree Distribution', size = 18)\n",
    "plt.show()\n",
    "\n",
    "plt.figure(2)\n",
    "_ = plt.bar( range( len(nx.degree_histogram(G)) ) ,nx.degree_histogram(G) )\n",
    "_ = plt.xlim(0,10)\n",
    "_ = plt.xlabel('degree', size =16)\n",
    "_ = plt.ylabel('node counts', size = 16)\n",
    "_ = plt.title('Degree Distribution from Degree 1 to 10', size = 18)\n",
    "plt.show()\n",
    "# degrees = dict(G.degree())\n",
    "# max(degrees, key=degrees.get)"
   ]
  },
  {
   "cell_type": "code",
   "execution_count": 82,
   "metadata": {},
   "outputs": [
    {
     "data": {
      "text/plain": [
       "227"
      ]
     },
     "execution_count": 82,
     "metadata": {},
     "output_type": "execute_result"
    }
   ],
   "source": [
    "max(list(dict(nx.degree(G)).values()))"
   ]
  },
  {
   "cell_type": "markdown",
   "metadata": {},
   "source": [
    "### How many connected components?"
   ]
  },
  {
   "cell_type": "code",
   "execution_count": 47,
   "metadata": {},
   "outputs": [
    {
     "data": {
      "text/plain": [
       "36098"
      ]
     },
     "execution_count": 47,
     "metadata": {},
     "output_type": "execute_result"
    }
   ],
   "source": [
    "nx.number_connected_components(G)"
   ]
  },
  {
   "cell_type": "markdown",
   "metadata": {},
   "source": [
    "# Part 2 : Largest Connected Component"
   ]
  },
  {
   "cell_type": "code",
   "execution_count": 51,
   "metadata": {},
   "outputs": [],
   "source": [
    "Gc = max(nx.connected_component_subgraphs(G), key=len)"
   ]
  },
  {
   "cell_type": "markdown",
   "metadata": {},
   "source": [
    "### How many nodes in the largest connected component?"
   ]
  },
  {
   "cell_type": "code",
   "execution_count": 52,
   "metadata": {},
   "outputs": [
    {
     "name": "stdout",
     "output_type": "stream",
     "text": [
      "Name: \n",
      "Type: Graph\n",
      "Number of nodes: 19924\n",
      "Number of edges: 70586\n",
      "Average degree:   7.0855\n"
     ]
    }
   ],
   "source": [
    "print nx.info(Gc)"
   ]
  },
  {
   "cell_type": "code",
   "execution_count": 55,
   "metadata": {},
   "outputs": [
    {
     "data": {
      "image/png": "[encoded data removed]",
      "text/plain": [
       "<Figure size 432x288 with 1 Axes>"
      ]
     },
     "metadata": {
      "needs_background": "light"
     },
     "output_type": "display_data"
    },
    {
     "data": {
      "image/png": "[encoded data removed]",
      "text/plain": [
       "<Figure size 432x288 with 1 Axes>"
      ]
     },
     "metadata": {
      "needs_background": "light"
     },
     "output_type": "display_data"
    },
    {
     "data": {
      "image/png": "[encoded data removed]",
      "text/plain": [
       "<Figure size 432x288 with 1 Axes>"
      ]
     },
     "metadata": {
      "needs_background": "light"
     },
     "output_type": "display_data"
    }
   ],
   "source": [
    "plt.figure(3)\n",
    "_ = plt.bar( range( len(nx.degree_histogram(Gc)) ) ,nx.degree_histogram(Gc) )\n",
    "_ = plt.xlabel('degree', size = 16)\n",
    "_ = plt.ylabel('node counts', size = 16)\n",
    "_ = plt.title('Entire Degree Distribution', size = 18)\n",
    "plt.show()\n",
    "\n",
    "plt.figure(4)\n",
    "_ = plt.bar( range( len(nx.degree_histogram(Gc)) ) ,nx.degree_histogram(Gc) )\n",
    "_ = plt.xlim(0,10)\n",
    "_ = plt.xlabel('degree', size =16)\n",
    "_ = plt.ylabel('node counts', size = 16)\n",
    "_ = plt.title('Degree Distribution from Degree 1 to 10', size = 18)\n",
    "plt.show()\n",
    "\n",
    "\n",
    "plt.figure(5)\n",
    "_ = plt.bar( range( len(nx.degree_histogram(Gc)) ) ,nx.degree_histogram(Gc) )\n",
    "_ = plt.xlim(0,10)\n",
    "_ = plt.xlabel('degree', size =16)\n",
    "_ = plt.ylabel('node counts (after log)', size = 16)\n",
    "_ = plt.yscale('log')\n",
    "_ = plt.title('Degree Distribution from Degree 1 to 10', size = 18)\n",
    "plt.show()"
   ]
  },
  {
   "cell_type": "code",
   "execution_count": 63,
   "metadata": {},
   "outputs": [
    {
     "name": "stdout",
     "output_type": "stream",
     "text": [
      "density: 0.000355645484866\n"
     ]
    }
   ],
   "source": [
    "print \"density: \"+str(nx.density(Gc))\n",
    "# print \"diameter:\"+str(nx.diameter(Gc))"
   ]
  },
  {
   "cell_type": "code",
   "execution_count": 77,
   "metadata": {},
   "outputs": [
    {
     "data": {
      "text/plain": [
       "(array([ 6857.,  1033.,   873.,  1565.,   582.,   848.,   444.,   189.,\n",
       "          195.,  7338.]),\n",
       " array([ 0. ,  0.1,  0.2,  0.3,  0.4,  0.5,  0.6,  0.7,  0.8,  0.9,  1. ]),\n",
       " <a list of 10 Patch objects>)"
      ]
     },
     "execution_count": 77,
     "metadata": {},
     "output_type": "execute_result"
    },
    {
     "data": {
      "image/png": "[encoded data removed]",
      "text/plain": [
       "<Figure size 432x288 with 1 Axes>"
      ]
     },
     "metadata": {},
     "output_type": "display_data"
    }
   ],
   "source": [
    "plt.hist( list(nx.clustering(Gc).values()))"
   ]
  },
  {
   "cell_type": "code",
   "execution_count": 79,
   "metadata": {},
   "outputs": [
    {
     "data": {
      "text/plain": [
       "0.9460151727945407"
      ]
     },
     "execution_count": 79,
     "metadata": {},
     "output_type": "execute_result"
    }
   ],
   "source": [
    "nx.transitivity(Gc)"
   ]
  },
  {
   "cell_type": "code",
   "execution_count": null,
   "metadata": {},
   "outputs": [],
   "source": [
    "nx"
   ]
  }
 ],
 "metadata": {
  "kernelspec": {
   "display_name": "Python 3",
   "language": "python",
   "name": "python3"
  },
  "language_info": {
   "codemirror_mode": {
    "name": "ipython",
    "version": 3
   },
   "file_extension": ".py",
   "mimetype": "text/x-python",
   "name": "python",
   "nbconvert_exporter": "python",
   "pygments_lexer": "ipython3",
   "version": "3.7.1"
  }
 },
 "nbformat": 4,
 "nbformat_minor": 2
}
